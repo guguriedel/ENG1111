{
  "nbformat": 4,
  "nbformat_minor": 0,
  "metadata": {
    "colab": {
      "provenance": [],
      "collapsed_sections": [],
      "authorship_tag": "ABX9TyPrCYYAmP856/fg3MhHtO88",
      "include_colab_link": true
    },
    "kernelspec": {
      "name": "python3",
      "display_name": "Python 3"
    },
    "language_info": {
      "name": "python"
    }
  },
  "cells": [
    {
      "cell_type": "markdown",
      "metadata": {
        "id": "view-in-github",
        "colab_type": "text"
      },
      "source": [
        "<a href=\"https://colab.research.google.com/github/guguriedel/ENG1111/blob/main/GustavoRiedel_2210375_Lista3.ipynb\" target=\"_parent\"><img src=\"https://colab.research.google.com/assets/colab-badge.svg\" alt=\"Open In Colab\"/></a>"
      ]
    },
    {
      "cell_type": "code",
      "execution_count": 328,
      "metadata": {
        "colab": {
          "base_uri": "https://localhost:8080/"
        },
        "id": "soNhzo93b6UW",
        "outputId": "9e6de718-bb78-4f78-80cd-fb8f4c9dd9ff"
      },
      "outputs": [
        {
          "output_type": "stream",
          "name": "stdout",
          "text": [
            "Mounted at /drive\n",
            "      ESTC  NDEP  RENDA  TIPOR  VBEM  ...  TEL  IDADE  RESMS  ENTRADA  target\n",
            "0        1     0    360      0   313  ...    0     25     48        0       1\n",
            "1        0     0    350      1   468  ...    0     33      6        0       1\n",
            "2        0     0   1100      0   829  ...    0     56     48        0       1\n",
            "3        0     0   3000      0   552  ...    1     31     60        0       1\n",
            "4        1     0   1000      0   809  ...    0     24      7        0       1\n",
            "...    ...   ...    ...    ...   ...  ...  ...    ...    ...      ...     ...\n",
            "1495     1     0    500      0   437  ...    0     60     48        0       1\n",
            "1496     1     0   2057      0   301  ...    0     35     48        0       1\n",
            "1497     0     0    570      0   511  ...    1     28    144        0       1\n",
            "1498     0     0    360      0   384  ...    0     33     36        0       1\n",
            "1499     0     4    501      1   849  ...    0     37      6        0       0\n",
            "\n",
            "[1500 rows x 12 columns]\n"
          ]
        }
      ],
      "source": [
        "#Salve a base de dados escolhida no seu drive e importe para um notebook do Colab, criando um Dataframe\n",
        "#Inspecione as colunas do conjunto de dados (Nome das colunas e tipo de dados)\n",
        "import pandas as pd\n",
        "import json\n",
        "from google.colab import drive\n",
        "import os\n",
        "import numpy as np\n",
        "\n",
        "drive.mount('/drive',force_remount=True)\n",
        "money = pd.read_csv(\"/drive/MyDrive/Colab Notebooks/DataBank/class_analise_credito.csv\")\n",
        "pd.set_option('display.max_columns', 10)\n",
        "print(money)"
      ]
    },
    {
      "cell_type": "code",
      "source": [
        "#Escolha uma coluna com valores numéricos e apague todas as linhas que possuam valor nulo\n",
        "\n",
        "money['RENDA'].dropna(inplace = True)\n",
        "renda_column = money['RENDA']\n",
        "\n",
        "print(renda_column)"
      ],
      "metadata": {
        "id": "qk4xCELwiROG",
        "colab": {
          "base_uri": "https://localhost:8080/"
        },
        "outputId": "fe457e27-98c7-4f91-859c-2d36781ebe8e"
      },
      "execution_count": 329,
      "outputs": [
        {
          "output_type": "stream",
          "name": "stdout",
          "text": [
            "0        360\n",
            "1        350\n",
            "2       1100\n",
            "3       3000\n",
            "4       1000\n",
            "        ... \n",
            "1495     500\n",
            "1496    2057\n",
            "1497     570\n",
            "1498     360\n",
            "1499     501\n",
            "Name: RENDA, Length: 1500, dtype: int64\n"
          ]
        }
      ]
    },
    {
      "cell_type": "code",
      "source": [
        "#Calcule a média desta mesma coluna\n",
        "\n",
        "media = renda_column.mean()\n",
        "print(media)"
      ],
      "metadata": {
        "colab": {
          "base_uri": "https://localhost:8080/"
        },
        "id": "818G78jZyVBx",
        "outputId": "7de31533-1da4-4b8e-ab6a-0e8a1df9a41e"
      },
      "execution_count": 330,
      "outputs": [
        {
          "output_type": "stream",
          "name": "stdout",
          "text": [
            "984.512\n"
          ]
        }
      ]
    },
    {
      "cell_type": "code",
      "source": [
        "#Escolha um critério para eliminar as linhas que possuam valores muito distantes da média e crie um novo Dataframe.\n",
        "lowpass = (media*0.2)\n",
        "highpass = (media*1.8)\n",
        "#Aqui eu criei uma margem de erro de 80% da média.\n",
        "cont = 0\n",
        "while cont < len(renda_column):\n",
        "  if renda_column[cont] > highpass or renda_column[cont] < lowpass:\n",
        "    money.drop(cont, inplace = True)\n",
        "  cont+=1\n",
        "\n",
        "print(\"Observe como a media abaixou significamente:\")\n",
        "print(\"%.2f\"%(money['RENDA'].mean()))\n",
        "print(money)\n",
        "\n"
      ],
      "metadata": {
        "id": "bheatD4qdUld",
        "colab": {
          "base_uri": "https://localhost:8080/"
        },
        "outputId": "cb732b85-b21c-4c7f-de90-8d7ad5dabeff"
      },
      "execution_count": 331,
      "outputs": [
        {
          "output_type": "stream",
          "name": "stdout",
          "text": [
            "Observe como a media abaixou significamente:\n",
            "713.87\n",
            "      ESTC  NDEP  RENDA  TIPOR  VBEM  ...  TEL  IDADE  RESMS  ENTRADA  target\n",
            "0        1     0    360      0   313  ...    0     25     48        0       1\n",
            "1        0     0    350      1   468  ...    0     33      6        0       1\n",
            "2        0     0   1100      0   829  ...    0     56     48        0       1\n",
            "4        1     0   1000      0   809  ...    0     24      7        0       1\n",
            "5        0     0    300      0   331  ...    1     41      0        0       1\n",
            "...    ...   ...    ...    ...   ...  ...  ...    ...    ...      ...     ...\n",
            "1494     0     0   1100      1   412  ...    0     41      6      100       0\n",
            "1495     1     0    500      0   437  ...    0     60     48        0       1\n",
            "1497     0     0    570      0   511  ...    1     28    144        0       1\n",
            "1498     0     0    360      0   384  ...    0     33     36        0       1\n",
            "1499     0     4    501      1   849  ...    0     37      6        0       0\n",
            "\n",
            "[1311 rows x 12 columns]\n"
          ]
        }
      ]
    },
    {
      "cell_type": "code",
      "source": [
        "data= money[['RENDA', 'VBEM', 'VPARC','IDADE',\"target\"]]\n",
        "#Dataframe com 5 colunas\n",
        "data.insert(1, 'VBEM - VPARC', ((data['VBEM'] - data['VPARC'] )* 0.45))\n",
        "#sexta coluna add\n",
        "\n",
        "print(data)"
      ],
      "metadata": {
        "colab": {
          "base_uri": "https://localhost:8080/"
        },
        "id": "KtYP1SI6ciqN",
        "outputId": "57fe91cb-e419-4ca5-eb72-f592e7e35635"
      },
      "execution_count": 332,
      "outputs": [
        {
          "output_type": "stream",
          "name": "stdout",
          "text": [
            "      RENDA  VBEM - VPARC  VBEM  VPARC  IDADE  target\n",
            "0       360        117.45   313     52     25       1\n",
            "1       350        181.35   468     65     33       1\n",
            "2      1100        316.80   829    125     56       1\n",
            "4      1000        314.10   809    111     24       1\n",
            "5       300        115.65   331     74     41       1\n",
            "...     ...           ...   ...    ...    ...     ...\n",
            "1494   1100        155.25   412     67     41       0\n",
            "1495    500        169.65   437     60     60       1\n",
            "1497    570        198.00   511     71     28       1\n",
            "1498    360        149.40   384     52     33       1\n",
            "1499    501        329.40   849    117     37       0\n",
            "\n",
            "[1311 rows x 6 columns]\n"
          ]
        }
      ]
    },
    {
      "cell_type": "code",
      "source": [
        "randata = data.reindex(np.random.permutation(data.index))\n",
        "#Embaralhando os Dados\n",
        "\n",
        "randata = randata.sort_values(by='RENDA', ascending=True)\n",
        "#Ordenando os dados pela ordem crescente da coluna \"RENDA\"\n",
        "print(randata)"
      ],
      "metadata": {
        "colab": {
          "base_uri": "https://localhost:8080/"
        },
        "id": "ngOhvkuafnaN",
        "outputId": "4cb5e872-dec4-410c-c288-d0cded437bba"
      },
      "execution_count": 333,
      "outputs": [
        {
          "output_type": "stream",
          "name": "stdout",
          "text": [
            "      RENDA  VBEM - VPARC  VBEM  VPARC  IDADE  target\n",
            "197     300        206.55   537     78     32       0\n",
            "1154    300        109.35   310     67     61       0\n",
            "435     300        211.95   529     58     34       1\n",
            "650     300        153.00   401     61     62       0\n",
            "1207    300        129.60   339     51     48       0\n",
            "...     ...           ...   ...    ...    ...     ...\n",
            "498    1700        238.50   669    139     65       0\n",
            "209    1727        505.35  1199     76     65       0\n",
            "460    1740        104.40   400    168     60       0\n",
            "745    1750        302.85   776    103     57       0\n",
            "1478   1761         92.70   449    243     23       1\n",
            "\n",
            "[1311 rows x 6 columns]\n"
          ]
        }
      ]
    },
    {
      "cell_type": "code",
      "source": [
        "#Escolha uma coluna numérica e um coluna com strings e utilize a função Groupby para mostrar os totais da  coluna.\n",
        "#No meu df nao tem nenhuma coluna com str\n",
        "\n",
        "grupo = randata.groupby('RENDA')[['IDADE']].min()\n",
        "print(grupo)"
      ],
      "metadata": {
        "colab": {
          "base_uri": "https://localhost:8080/"
        },
        "id": "bSURDKQpP0iL",
        "outputId": "823b4c98-3b6c-481d-be1a-60d2f720c4f5"
      },
      "execution_count": 334,
      "outputs": [
        {
          "output_type": "stream",
          "name": "stdout",
          "text": [
            "       IDADE\n",
            "RENDA       \n",
            "300       19\n",
            "301       36\n",
            "302       26\n",
            "303       27\n",
            "305       38\n",
            "...      ...\n",
            "1700      39\n",
            "1727      65\n",
            "1740      60\n",
            "1750      57\n",
            "1761      23\n",
            "\n",
            "[441 rows x 1 columns]\n"
          ]
        }
      ]
    },
    {
      "cell_type": "code",
      "source": [
        "#Utilize a função MAPS para fazer algum tipo de substituição no Dataframe (explique)\n",
        "\n",
        "randata['target'] = randata['target'].map({1.0 : 'positivo', 0.0 : 'negativo'})\n",
        "#Caso target seja classificado como 0, sera substituido por Negativo;\n",
        "#Caso target seja 1, sera substituido por Positivo;\n",
        "\n",
        "print(randata)"
      ],
      "metadata": {
        "colab": {
          "base_uri": "https://localhost:8080/"
        },
        "id": "nx173cehQ1hT",
        "outputId": "c5ea58fa-b721-4ea6-ad9b-7c69806c7935"
      },
      "execution_count": 335,
      "outputs": [
        {
          "output_type": "stream",
          "name": "stdout",
          "text": [
            "      RENDA  VBEM - VPARC  VBEM  VPARC  IDADE    target\n",
            "197     300        206.55   537     78     32  negativo\n",
            "1154    300        109.35   310     67     61  negativo\n",
            "435     300        211.95   529     58     34  positivo\n",
            "650     300        153.00   401     61     62  negativo\n",
            "1207    300        129.60   339     51     48  negativo\n",
            "...     ...           ...   ...    ...    ...       ...\n",
            "498    1700        238.50   669    139     65  negativo\n",
            "209    1727        505.35  1199     76     65  negativo\n",
            "460    1740        104.40   400    168     60  negativo\n",
            "745    1750        302.85   776    103     57  negativo\n",
            "1478   1761         92.70   449    243     23  positivo\n",
            "\n",
            "[1311 rows x 6 columns]\n"
          ]
        }
      ]
    },
    {
      "cell_type": "code",
      "source": [
        "#Exportando o DataFrame para o drive:\n",
        "\n",
        "randata.to_csv(\"/drive/MyDrive/Colab Notebooks/DataBank/class_analise_credito_editada.csv\")\n",
        "randata.to_json(\"/drive/MyDrive/Colab Notebooks/DataBank/class_analise_credito_editada.json\")"
      ],
      "metadata": {
        "id": "yaFtGDVcoFCM"
      },
      "execution_count": 336,
      "outputs": []
    }
  ]
}